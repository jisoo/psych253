{
 "cells": [
  {
   "cell_type": "code",
   "execution_count": 1,
   "metadata": {
    "collapsed": true,
    "deletable": true,
    "editable": true
   },
   "outputs": [],
   "source": [
    "%matplotlib inline\n",
    "\n",
    "import matplotlib\n",
    "import matplotlib.pyplot as plt\n",
    "\n",
    "#the above imports the plotting library matplotlib"
   ]
  },
  {
   "cell_type": "code",
   "execution_count": 2,
   "metadata": {
    "collapsed": true,
    "deletable": true,
    "editable": true
   },
   "outputs": [],
   "source": [
    "#standard imports\n",
    "import time\n",
    "import numpy as np\n",
    "import h5py\n"
   ]
  },
  {
   "cell_type": "code",
   "execution_count": 3,
   "metadata": {
    "collapsed": false,
    "deletable": true,
    "editable": true
   },
   "outputs": [],
   "source": [
    "#importing tensorflow w/o gpus\n",
    "import os\n",
    "os.environ[\"CUDA_VISIBLE_DEVICES\"]=\"-1\"    \n",
    "import tensorflow as tf"
   ]
  },
  {
   "cell_type": "code",
   "execution_count": 4,
   "metadata": {
    "collapsed": true,
    "deletable": true,
    "editable": true
   },
   "outputs": [],
   "source": [
    "#ok let's load the neural data \n",
    "DATA_PATH = \"/home/chengxuz/Class/psych253_2018/data/ventral_neural_data.hdf5\"\n",
    "Ventral_Dataset = h5py.File(DATA_PATH)\n",
    "\n",
    "categories = Ventral_Dataset['image_meta']['category'][:]   #array of category labels for all images  --> shape == (5760,)\n",
    "unique_categories = np.unique(categories)                #array of unique category labels --> shape == (8,)\n",
    "\n",
    "var_levels = Ventral_Dataset['image_meta']['variation_level'][:] \n",
    "\n",
    "Neural_Data = Ventral_Dataset['time_averaged_trial_averaged'][:]\n",
    "\n",
    "num_neurons = Neural_Data.shape[1]\n",
    "num_categories = 8 "
   ]
  },
  {
   "cell_type": "code",
   "execution_count": 5,
   "metadata": {
    "collapsed": false,
    "deletable": true,
    "editable": true
   },
   "outputs": [
    {
     "data": {
      "text/plain": [
       "array(['Fruits', 'Fruits', 'Fruits', 'Fruits', 'Fruits', 'Fruits',\n",
       "       'Fruits', 'Fruits', 'Fruits', 'Fruits'], dtype='|S7')"
      ]
     },
     "execution_count": 5,
     "metadata": {},
     "output_type": "execute_result"
    }
   ],
   "source": [
    "categories[:10]"
   ]
  },
  {
   "cell_type": "code",
   "execution_count": 6,
   "metadata": {
    "collapsed": false,
    "deletable": true,
    "editable": true
   },
   "outputs": [],
   "source": [
    "#we'll construct 8 one-vs-all vectors with {-1, 1} values\n",
    "category_matrix = np.array([2 * (categories == c) - 1 for \n",
    "                             c in unique_categories]).T.astype(int)"
   ]
  },
  {
   "cell_type": "code",
   "execution_count": 7,
   "metadata": {
    "collapsed": false,
    "deletable": true,
    "editable": true
   },
   "outputs": [
    {
     "data": {
      "text/plain": [
       "array([-1, -1, -1, -1, -1,  1, -1, -1])"
      ]
     },
     "execution_count": 7,
     "metadata": {},
     "output_type": "execute_result"
    }
   ],
   "source": [
    "category_matrix[0]"
   ]
  },
  {
   "cell_type": "code",
   "execution_count": 8,
   "metadata": {
    "collapsed": false,
    "deletable": true,
    "editable": true
   },
   "outputs": [],
   "source": [
    "sess = tf.Session()"
   ]
  },
  {
   "cell_type": "code",
   "execution_count": 9,
   "metadata": {
    "collapsed": false,
    "deletable": true,
    "editable": true
   },
   "outputs": [],
   "source": [
    "# as previously seen in lecture 8 we'll set up a hinge loss\n",
    "\n",
    "#first, get initializers for W and b\n",
    "initial_weights = tf.random_uniform(shape=(num_neurons, num_categories),\n",
    "                  minval=-1,\n",
    "                  maxval=1,\n",
    "                  seed=0)\n",
    "\n",
    "initial_bias = tf.zeros(shape=(num_categories,))"
   ]
  },
  {
   "cell_type": "code",
   "execution_count": 10,
   "metadata": {
    "collapsed": true,
    "deletable": true,
    "editable": true
   },
   "outputs": [],
   "source": [
    "#now construct the TF variables\n",
    "weights = tf.get_variable('weights', \n",
    "                           dtype=tf.float32,\n",
    "                           initializer=initial_weights)\n",
    "                         \n",
    "bias = tf.get_variable('bias', \n",
    "                       dtype=tf.float32,\n",
    "                       initializer=initial_bias)"
   ]
  },
  {
   "cell_type": "code",
   "execution_count": 11,
   "metadata": {
    "collapsed": false,
    "deletable": true,
    "editable": true
   },
   "outputs": [],
   "source": [
    "#initialize variables\n",
    "init_op = tf.global_variables_initializer()\n",
    "sess.run(init_op)"
   ]
  },
  {
   "cell_type": "code",
   "execution_count": 12,
   "metadata": {
    "collapsed": true,
    "deletable": true,
    "editable": true
   },
   "outputs": [],
   "source": [
    "#input slots for data and labels\n",
    "#note the batch size is \"None\" -- effectively meaning batches of \n",
    "#varying sizes can be used\n",
    "neural_data = tf.placeholder(shape=(None, num_neurons),\n",
    "                              dtype=tf.float32)\n",
    "\n",
    "category_labels = tf.placeholder(shape=(None, num_categories),\n",
    "                                 dtype=tf.float32)"
   ]
  },
  {
   "cell_type": "code",
   "execution_count": 13,
   "metadata": {
    "collapsed": true,
    "deletable": true,
    "editable": true
   },
   "outputs": [],
   "source": [
    "#now construct margins\n",
    "margins = tf.matmul(neural_data, weights) + bias\n",
    "\n",
    "#the hinge loss\n",
    "hinge_loss = tf.maximum(0., 1. - category_labels * margins)\n",
    "\n",
    "#and take the mean of the loss over the batch\n",
    "hinge_loss_mean = tf.reduce_mean(hinge_loss)"
   ]
  },
  {
   "cell_type": "code",
   "execution_count": 14,
   "metadata": {
    "collapsed": true,
    "deletable": true,
    "editable": true
   },
   "outputs": [],
   "source": [
    "#simple interface for using tensorflow built-in optimizer\n",
    "#as seen yesterclass\n",
    "\n",
    "def tf_optimize(loss,\n",
    "                optimizer_class,\n",
    "                target,\n",
    "                training_data,\n",
    "                num_iterations,\n",
    "                optimizer_args=(),\n",
    "                optimizer_kwargs=None,\n",
    "                sess=None,\n",
    "                initial_guesses=None):\n",
    "                           \n",
    "    if sess is None:\n",
    "        sess = tf.Session()\n",
    "        \n",
    "    if optimizer_kwargs is None:\n",
    "        optimizer_kwargs = {}\n",
    "    \n",
    "    #construct the optimizer\n",
    "    optimizer = optimizer_class(*optimizer_args, \n",
    "                                **optimizer_kwargs)\n",
    "    optimizer_op = optimizer.minimize(loss)\n",
    "    \n",
    "    #initialize variables\n",
    "    init_op = tf.global_variables_initializer()\n",
    "    sess.run(init_op)\n",
    "    \n",
    "    if initial_guesses is not None:\n",
    "        for k, v in initial_guesses.items():\n",
    "            op = tf.assign(k, v)\n",
    "            sess.run(op)\n",
    "\n",
    "    targetvals = []\n",
    "    losses = []\n",
    "    times = []\n",
    "    for i in range(num_iterations):\n",
    "        t0 = time.time()\n",
    "        output = sess.run({'opt': optimizer_op,\n",
    "                           'target': target,\n",
    "                           'loss': loss}, \n",
    "                           feed_dict=training_data)\n",
    "        times.append(time.time() - t0)\n",
    "        targetvals.append(output['target'])\n",
    "        losses.append(output['loss'])\n",
    "    \n",
    "    print('Average time per iteration --> %.5f' % np.mean(times))\n",
    "    return np.array(losses), targetvals"
   ]
  },
  {
   "cell_type": "code",
   "execution_count": 15,
   "metadata": {
    "collapsed": true,
    "deletable": true,
    "editable": true
   },
   "outputs": [],
   "source": [
    "#let's just focus on one batch of data for the moment\n",
    "\n",
    "batch_size = 640\n",
    "data_batch = Neural_Data[0: batch_size]\n",
    "label_batch = category_matrix[0: batch_size]\n",
    "\n",
    "data_dict = {neural_data: data_batch,\n",
    "             category_labels: label_batch}"
   ]
  },
  {
   "cell_type": "code",
   "execution_count": 16,
   "metadata": {
    "collapsed": false,
    "deletable": true,
    "editable": true
   },
   "outputs": [
    {
     "name": "stdout",
     "output_type": "stream",
     "text": [
      "('weights shape:', (296, 8))\n",
      "('biases:', array([0., 0., 0., 0., 0., 0., 0., 0.], dtype=float32))\n"
     ]
    },
    {
     "data": {
      "image/png": "[encoded data removed]",
      "text/plain": [
       "<matplotlib.figure.Figure at 0x7fa6974154d0>"
      ]
     },
     "metadata": {},
     "output_type": "display_data"
    }
   ],
   "source": [
    "#let's look at the weights and biases before training\n",
    "weight_vals, bias_vals = sess.run([weights, bias])\n",
    "\n",
    "#right, it's num_neurons x num_categories\n",
    "print('weights shape:', weight_vals.shape)\n",
    "\n",
    "#let's look at some of the weights\n",
    "plt.hist(weight_vals[:, 0])\n",
    "plt.xlabel('Weight Value')\n",
    "plt.ylabel('Neuron Count')\n",
    "plt.title('Weights for Animals vs All')\n",
    "\n",
    "print('biases:', bias_vals)"
   ]
  },
  {
   "cell_type": "code",
   "execution_count": 17,
   "metadata": {
    "collapsed": false,
    "deletable": true,
    "editable": true
   },
   "outputs": [
    {
     "name": "stdout",
     "output_type": "stream",
     "text": [
      "WARNING:tensorflow:From /home/yamins/.local/lib/python2.7/site-packages/tensorflow_core/python/ops/math_grad.py:1424: where (from tensorflow.python.ops.array_ops) is deprecated and will be removed in a future version.\n",
      "Instructions for updating:\n",
      "Use tf.where in 2.0, which has the same broadcast rule as np.where\n",
      "Average time per iteration --> 0.00168\n"
     ]
    }
   ],
   "source": [
    "#ok so we'll use the Momentum optimizer to find weights and bias\n",
    "#for this classification problem\n",
    "losses, targs = tf_optimize(loss=hinge_loss_mean,\n",
    "            optimizer_class=tf.train.MomentumOptimizer,\n",
    "            target=[],\n",
    "            training_data=data_dict,\n",
    "            num_iterations=100,\n",
    "            optimizer_kwargs={'learning_rate': 1, 'momentum': 0.9},\n",
    "            sess=sess)"
   ]
  },
  {
   "cell_type": "code",
   "execution_count": 18,
   "metadata": {
    "collapsed": false,
    "deletable": true,
    "editable": true
   },
   "outputs": [
    {
     "data": {
      "text/plain": [
       "[<matplotlib.lines.Line2D at 0x7fa6940c6690>]"
      ]
     },
     "execution_count": 18,
     "metadata": {},
     "output_type": "execute_result"
    },
    {
     "data": {
      "image/png": "[encoded data removed]",
      "text/plain": [
       "<matplotlib.figure.Figure at 0x7fa6973d4d50>"
      ]
     },
     "metadata": {},
     "output_type": "display_data"
    }
   ],
   "source": [
    "#losses decrease almost to 0\n",
    "plt.plot(losses)"
   ]
  },
  {
   "cell_type": "code",
   "execution_count": 19,
   "metadata": {
    "collapsed": false,
    "deletable": true,
    "editable": true
   },
   "outputs": [
    {
     "name": "stdout",
     "output_type": "stream",
     "text": [
      "('biases:', array([-5.6579237, -5.389991 , -6.0190325, -5.8776336, -5.839387 ,\n",
      "       -5.5426507, -5.035459 , -5.476042 ], dtype=float32))\n"
     ]
    },
    {
     "data": {
      "image/png": "[encoded data removed]",
      "text/plain": [
       "<matplotlib.figure.Figure at 0x7fa6946e8610>"
      ]
     },
     "metadata": {},
     "output_type": "display_data"
    }
   ],
   "source": [
    "weight_vals, bias_vals = sess.run([weights, bias])\n",
    "\n",
    "#right, it's num_neurons x num_categories\n",
    "weight_vals.shape\n",
    "\n",
    "#let's look at some of the weights\n",
    "plt.hist(weight_vals[:, 2])\n",
    "plt.xlabel('Weight Value')\n",
    "plt.ylabel('Neuron Count')\n",
    "plt.title('Weights for Faces vs All')\n",
    "\n",
    "print('biases:', bias_vals)\n",
    "\n",
    "#ok so things have been learned!"
   ]
  },
  {
   "cell_type": "code",
   "execution_count": 20,
   "metadata": {
    "collapsed": false,
    "deletable": true,
    "editable": true
   },
   "outputs": [
    {
     "name": "stdout",
     "output_type": "stream",
     "text": [
      "Training accuracy: 99.53%\n"
     ]
    }
   ],
   "source": [
    "#how good are the results on training? \n",
    "\n",
    "#actually get the predictions by first getting the margins\n",
    "margin_vals = sess.run(margins, feed_dict = data_dict)\n",
    "#now taking the argmax across categories\n",
    "pred_inds = margin_vals.argmax(axis=1)\n",
    "#compare prediction to actual\n",
    "correct = pred_inds == label_batch.argmax(axis=1)\n",
    "pct = correct.sum() / float(len(correct)) * 100\n",
    "print('Training accuracy: %.2f%%' % pct)\n",
    "\n",
    "#Right, very accurate on training"
   ]
  },
  {
   "cell_type": "markdown",
   "metadata": {
    "deletable": true,
    "editable": true
   },
   "source": [
    "### Stochastic Gradient Descent"
   ]
  },
  {
   "cell_type": "code",
   "execution_count": 21,
   "metadata": {
    "collapsed": true,
    "deletable": true,
    "editable": true
   },
   "outputs": [],
   "source": [
    "class BatchReader(object):\n",
    "    \n",
    "    def __init__(self, data_dict, batch_size, shuffle=True, shuffle_seed=0, pad=True):\n",
    "        self.data_dict = data_dict        \n",
    "        self.batch_size = batch_size\n",
    "        _k = data_dict.keys()[0]\n",
    "        self.data_length = data_dict[_k].shape[0]\n",
    "        self.total_batches = (self.data_length - 1) // self.batch_size + 1\n",
    "        self.curr_batch_num = 0\n",
    "        self.curr_epoch = 1\n",
    "        self.pad = pad\n",
    "        self.shuffle = shuffle\n",
    "        self.shuffle_seed = shuffle_seed\n",
    "        \n",
    "        if self.shuffle:\n",
    "            self.rng = np.random.RandomState(seed=self.shuffle_seed)\n",
    "            self.perm = self.rng.permutation(self.data_length)\n",
    "        \n",
    "    def __iter__(self):\n",
    "        return self\n",
    "\n",
    "    def next(self):\n",
    "        return self.get_next_batch()\n",
    "        \n",
    "    def get_next_batch(self):\n",
    "        data = self.get_batch(self.curr_batch_num)\n",
    "        self.increment_batch_num()\n",
    "        return data\n",
    "\n",
    "    def increment_batch_num(self):\n",
    "        m = self.total_batches\n",
    "        if (self.curr_batch_num >= m - 1):\n",
    "            self.curr_epoch += 1\n",
    "            if self.shuffle:\n",
    "                self.perm = self.rng.permutation(self.data_length)\n",
    "        self.curr_batch_num = (self.curr_batch_num + 1) % m\n",
    "\n",
    "    def get_batch(self, cbn):\n",
    "        data = {}\n",
    "        startv = cbn * self.batch_size\n",
    "        endv = (cbn + 1) * self.batch_size\n",
    "        if self.pad and endv > self.data_length:\n",
    "            startv = self.data_length - self.batch_size\n",
    "            endv = startv + self.batch_size\n",
    "        for k in self.data_dict:\n",
    "            if self.shuffle:\n",
    "                data[k] = self.data_dict[k][self.perm[startv: endv]]\n",
    "            else:\n",
    "                data[k] = self.data_dict[k][startv: endv]\n",
    "        return data\n"
   ]
  },
  {
   "cell_type": "code",
   "execution_count": 22,
   "metadata": {
    "collapsed": false,
    "deletable": true,
    "editable": true
   },
   "outputs": [],
   "source": [
    "class TF_Optimizer(object):\n",
    "    \"\"\"Make the tensorflow SGD-style optimizer into a scikit-learn compatible class\n",
    "       Uses BatchReader for stochastically getting data batches.\n",
    "       \n",
    "       model_func: function which returns tensorflow nodes for\n",
    "                     predictions, data_input\n",
    "        \n",
    "       loss_func: function which takes model_func prediction output node and \n",
    "                  returns tensorflow nodes for\n",
    "                     loss, label_input\n",
    "                     \n",
    "       optimizer_class: which tensorflow optimizer class to when learning the model parameters\n",
    "       \n",
    "       batch_size: which batch size to use in training\n",
    "       \n",
    "       train_iterations: how many iterations to run the optimizer for \n",
    "           --> this should really be picked automatically by like when the training\n",
    "               error plateaus\n",
    "               \n",
    "        model_kwargs:  dictionary of additional arguments for the model_func\n",
    "        \n",
    "        loss_kwargs: dictionary of additional arguments for the loss_func\n",
    "        \n",
    "        optimizer_args, optimizer_kwargs: additional position and keyword args for the\n",
    "         optimizer class\n",
    "         \n",
    "        sess: tf session to use (will be constructed if not passed) \n",
    "        \n",
    "        train_shuffle: whether to shuffle example order during training\n",
    "       \n",
    "    \"\"\" \n",
    "    \n",
    "    def __init__(self, \n",
    "                 model_func,\n",
    "                 loss_func, \n",
    "                 optimizer_class,\n",
    "                 batch_size,\n",
    "                 train_iterations,\n",
    "                 model_kwargs=None,\n",
    "                 loss_kwargs=None,\n",
    "                 optimizer_args=(),\n",
    "                 optimizer_kwargs=None,\n",
    "                 sess=None,\n",
    "                 train_shuffle=False\n",
    "                 ):\n",
    "                        \n",
    "        self.model_func = model_func\n",
    "        if model_kwargs is None:\n",
    "            model_kwargs = {}\n",
    "        self.model_kwargs = model_kwargs\n",
    "        self.loss_func = loss_func\n",
    "        if loss_kwargs is None:\n",
    "            loss_kwargs = {}\n",
    "        self.loss_kwargs = loss_kwargs\n",
    "        self.train_shuffle=train_shuffle\n",
    "        \n",
    "        self.train_iterations = train_iterations\n",
    "        self.batch_size = batch_size\n",
    "     \n",
    "        if sess is None:\n",
    "            sess = tf.Session()\n",
    "        self.sess = sess\n",
    "                \n",
    "        if optimizer_kwargs is None:\n",
    "            optimizer_kwargs = {}\n",
    "        self.optimizer = optimizer_class(*optimizer_args, \n",
    "                                         **optimizer_kwargs)\n",
    "        \n",
    "    def fit(self, train_data, train_labels):\n",
    "        self.model, self.data_holder = self.model_func(**self.model_kwargs)\n",
    "        self.loss, self.labels_holder = self.loss_func(self.model, **self.loss_kwargs)\n",
    "        \n",
    "        self.optimizer_op = self.optimizer.minimize(self.loss)\n",
    "            \n",
    "        data_dict = {self.data_holder: train_data,\n",
    "                     self.labels_holder: train_labels}\n",
    "        train_data = BatchReader(data_dict=data_dict,\n",
    "                                 batch_size=self.batch_size,\n",
    "                                 shuffle=self.train_shuffle,\n",
    "                                 shuffle_seed=0,\n",
    "                                 pad=True)\n",
    "        \n",
    "        init_op = tf.global_variables_initializer()\n",
    "        sess.run(init_op)\n",
    "        \n",
    "        self.losses = []                      \n",
    "        for i in range(self.train_iterations):\n",
    "            data_batch = train_data.next()\n",
    "            output = self.sess.run({'opt': self.optimizer_op,\n",
    "                                    'loss': self.loss}, \n",
    "                                    feed_dict=data_batch)\n",
    "            self.losses.append(output['loss'])\n",
    "                \n",
    "    def predict(self, test_data):\n",
    "        data_dict = {self.data_holder: test_data}\n",
    "        test_data = BatchReader(data_dict=data_dict,\n",
    "                             batch_size=self.batch_size,\n",
    "                             shuffle=False,\n",
    "                             pad=False)                  \n",
    "        preds = []\n",
    "        for i in range(test_data.total_batches):\n",
    "            data_batch = test_data.get_batch(i)\n",
    "            pred_batch = self.sess.run(self.model, feed_dict=data_batch)\n",
    "            preds.append(pred_batch)\n",
    "        return np.row_stack(preds)\n"
   ]
  },
  {
   "cell_type": "code",
   "execution_count": 23,
   "metadata": {
    "collapsed": true,
    "deletable": true,
    "editable": true
   },
   "outputs": [],
   "source": [
    "def binarize_labels(labels):\n",
    "    \"\"\"takes discrete-valued labels and binarizes them into {-1, 1}-value format\n",
    "       returns:\n",
    "           binarized_labels: of shape (num_stimuli, num_categories)\n",
    "           unique_labels: actual labels indicating order of first axis in binarized_labels\n",
    "    \"\"\"\n",
    "    unique_labels = np.unique(labels)\n",
    "    num_classes = len(unique_labels)\n",
    "    binarized_labels = np.array([2 * (labels == c) - 1 for \n",
    "                                    c in unique_labels]).T.astype(int)\n",
    "    return binarized_labels, unique_labels\n",
    "    \n",
    "\n",
    "class TF_OVA_Classifier(TF_Optimizer):\n",
    "    \"\"\"\n",
    "    Subclass of TFOptimizer for use with categorizers. Basically, this class \n",
    "    handles data binarization (in the fit method) and un-binarization \n",
    "    (in the predict method), so that we can use the class with the function:\n",
    "    \n",
    "         train_and_test_scikit_classifier\n",
    "    \n",
    "    that we've previously defined. \n",
    "    \n",
    "    The predict method here implements a one-vs-all approach for multi-class problems.\n",
    "    \"\"\"\n",
    "    \n",
    "    def fit(self, train_data, train_labels):\n",
    "        #binarize labels\n",
    "        num_features = train_data.shape[1]\n",
    "        binarized_labels, classes_ = binarize_labels(train_labels)\n",
    "        #set .classes_ attribute, since this is needed by train_and_test_scikit_classifier\n",
    "        self.classes_ = classes_\n",
    "        num_classes = len(classes_)\n",
    "        #pass number of features and classes to the model construction \n",
    "        #function that will be called when the fit method is called\n",
    "        self.model_kwargs['num_features'] = num_features\n",
    "        self.model_kwargs['num_classes'] = num_classes\n",
    "        #now actually call the optimizer fit method\n",
    "        TF_Optimizer.fit(self, train_data=train_data, \n",
    "                              train_labels=binarized_labels)\n",
    "  \n",
    "    def decision_function(self, test_data):\n",
    "        #returns what are effectively the margins (for a linear classifier)\n",
    "        return TF_Optimizer.predict(self, test_data)\n",
    "    \n",
    "    def predict(self, test_data):\n",
    "        #use the one-vs-all rule for multiclass prediction. \n",
    "        preds = self.decision_function(test_data)\n",
    "        preds = np.argmax(preds, axis=1)\n",
    "        classes_ = self.classes_\n",
    "        return classes_[preds]"
   ]
  },
  {
   "cell_type": "code",
   "execution_count": 24,
   "metadata": {
    "collapsed": false,
    "deletable": true,
    "editable": true
   },
   "outputs": [],
   "source": [
    "def linear_classifier(num_features, num_classes):\n",
    "    \"\"\"generic form of a linear classifier, e.g. the model\n",
    "          margins = np.dot(data, weight) + bias\n",
    "    \"\"\"\n",
    "    initial_weights = tf.zeros(shape=(num_features, \n",
    "                                      num_classes), \n",
    "                               dtype=tf.float32)\n",
    "    weights = tf.Variable(initial_weights, \n",
    "                          dtype=tf.float32,\n",
    "                          name='weights')\n",
    "    initial_bias = tf.zeros(shape=(num_classes,))\n",
    "    bias = tf.Variable(initial_bias, \n",
    "                       dtype=tf.float32,\n",
    "                       name='bias')\n",
    "                           \n",
    "    data = tf.placeholder(shape=(None, num_features), dtype=tf.float32, name='data')\n",
    "    margins = tf.add(tf.matmul(data, weights), bias, name='margins')\n",
    "    return margins, data\n",
    "\n",
    "\n",
    "def hinge_loss(margins):\n",
    "    \"\"\"standard SVM hinge loss\n",
    "    \"\"\"\n",
    "    num_classes = margins.shape.as_list()[1]\n",
    "    category_labels = tf.placeholder(shape=(None, num_classes),\n",
    "                                     dtype=tf.float32, \n",
    "                                     name='labels')\n",
    "    h = tf.maximum(0., 1. - category_labels * margins, name='hinge_loss')\n",
    "    hinge_loss_mean = tf.reduce_mean(h, name='hinge_loss_mean')\n",
    "    return hinge_loss_mean, category_labels"
   ]
  },
  {
   "cell_type": "code",
   "execution_count": 25,
   "metadata": {
    "collapsed": false,
    "deletable": true,
    "editable": true
   },
   "outputs": [],
   "source": [
    "#construct the classifier instance ... just like with scikit-learn\n",
    "cls = TF_OVA_Classifier(model_func=linear_classifier,\n",
    "              loss_func=hinge_loss, \n",
    "              batch_size=2500,\n",
    "              train_iterations=1000,\n",
    "              train_shuffle=True,\n",
    "              optimizer_class=tf.train.MomentumOptimizer,\n",
    "              optimizer_kwargs = {'learning_rate':10.,\n",
    "                                  'momentum': 0.99\n",
    "                                 },\n",
    "              sess=sess\n",
    "              )"
   ]
  },
  {
   "cell_type": "code",
   "execution_count": 26,
   "metadata": {
    "collapsed": false,
    "deletable": true,
    "editable": true
   },
   "outputs": [
    {
     "data": {
      "text/plain": [
       "<matplotlib.text.Text at 0x7fa724202710>"
      ]
     },
     "execution_count": 26,
     "metadata": {},
     "output_type": "execute_result"
    },
    {
     "data": {
      "image/png": "[encoded data removed]",
      "text/plain": [
       "<matplotlib.figure.Figure at 0x7fa6973ef710>"
      ]
     },
     "metadata": {},
     "output_type": "display_data"
    }
   ],
   "source": [
    "#ok let's try out our classifier on medium-variation data\n",
    "data_subset = Neural_Data[var_levels=='V3']\n",
    "categories_subset = categories[var_levels=='V3']\n",
    "\n",
    "cls.fit(data_subset, categories_subset)\n",
    "\n",
    "plt.plot(cls.losses)\n",
    "plt.xlabel('number of iterations')\n",
    "plt.ylabel('Hinge loss')"
   ]
  },
  {
   "cell_type": "code",
   "execution_count": 27,
   "metadata": {
    "collapsed": false,
    "deletable": true,
    "editable": true
   },
   "outputs": [
    {
     "name": "stdout",
     "output_type": "stream",
     "text": [
      "Training accuracy was 99.77%\n"
     ]
    }
   ],
   "source": [
    "#ok how good was the actual training accuracy? \n",
    "preds = cls.predict(data_subset)\n",
    "acc = (preds == categories_subset).sum()\n",
    "pct = acc / float(len(preds)) * 100\n",
    "\n",
    "print('Training accuracy was %.2f%%' % pct)"
   ]
  },
  {
   "cell_type": "markdown",
   "metadata": {
    "deletable": true,
    "editable": true
   },
   "source": [
    "#### Side note on getting relevant tensors"
   ]
  },
  {
   "cell_type": "code",
   "execution_count": 28,
   "metadata": {
    "collapsed": false,
    "deletable": true,
    "editable": true
   },
   "outputs": [
    {
     "name": "stdout",
     "output_type": "stream",
     "text": [
      "Tensor(\"margins:0\", shape=(?, 8), dtype=float32)\n"
     ]
    }
   ],
   "source": [
    "#here's the linear mode constructed above:\n",
    "lin_model = cls.model\n",
    "print(lin_model)"
   ]
  },
  {
   "cell_type": "code",
   "execution_count": 29,
   "metadata": {
    "collapsed": false,
    "deletable": true,
    "editable": true
   },
   "outputs": [
    {
     "data": {
      "text/plain": [
       "[<tf.Tensor 'MatMul_1:0' shape=(?, 8) dtype=float32>,\n",
       " <tf.Tensor 'bias_1/read:0' shape=(8,) dtype=float32>]"
      ]
     },
     "execution_count": 29,
     "metadata": {},
     "output_type": "execute_result"
    }
   ],
   "source": [
    "#suppose we want to access the weights / bias used in this model?\n",
    "#these can be accessed by the \"op.inputs\" attribute in TF\n",
    "\n",
    "#first, we see that this is the stage of the caluation\n",
    "#where the linear model (the margins) is put together by adding \n",
    "#the result of the matrix multiplication (\"MatMul_[somenumber]\")\n",
    "#to the bias\n",
    "list(lin_model.op.inputs)"
   ]
  },
  {
   "cell_type": "code",
   "execution_count": 30,
   "metadata": {
    "collapsed": false,
    "deletable": true,
    "editable": true
   },
   "outputs": [
    {
     "data": {
      "text/plain": [
       "<tf.Tensor 'bias_1/read:0' shape=(8,) dtype=float32>"
      ]
     },
     "execution_count": 30,
     "metadata": {},
     "output_type": "execute_result"
    }
   ],
   "source": [
    "#so bias is just the first of these inputs\n",
    "bias_tensor = lin_model.op.inputs[1]\n",
    "bias_tensor"
   ]
  },
  {
   "cell_type": "code",
   "execution_count": 31,
   "metadata": {
    "collapsed": false,
    "deletable": true,
    "editable": true
   },
   "outputs": [
    {
     "data": {
      "text/plain": [
       "[<tf.Tensor 'data:0' shape=(?, 296) dtype=float32>,\n",
       " <tf.Tensor 'weights_1/read:0' shape=(296, 8) dtype=float32>]"
      ]
     },
     "execution_count": 31,
     "metadata": {},
     "output_type": "execute_result"
    }
   ],
   "source": [
    "#if we follow up the calculation graph by taking apart\n",
    "#whatever was the inputs to the matmul stage, we see\n",
    "#the data and the weights\n",
    "matmul_tensor = lin_model.op.inputs[0]\n",
    "list(matmul_tensor.op.inputs)"
   ]
  },
  {
   "cell_type": "code",
   "execution_count": 32,
   "metadata": {
    "collapsed": false,
    "deletable": true,
    "editable": true
   },
   "outputs": [
    {
     "data": {
      "text/plain": [
       "<tf.Tensor 'weights_1/read:0' shape=(296, 8) dtype=float32>"
      ]
     },
     "execution_count": 32,
     "metadata": {},
     "output_type": "execute_result"
    }
   ],
   "source": [
    "#so the weights tensor is just the first of *these* inputs\n",
    "weights_tensor = matmul_tensor.op.inputs[1]\n",
    "weights_tensor"
   ]
  },
  {
   "cell_type": "code",
   "execution_count": 33,
   "metadata": {
    "collapsed": false,
    "deletable": true,
    "editable": true
   },
   "outputs": [
    {
     "data": {
      "text/plain": [
       "<tf.Tensor 'weights_1/read:0' shape=(296, 8) dtype=float32>"
      ]
     },
     "execution_count": 33,
     "metadata": {},
     "output_type": "execute_result"
    }
   ],
   "source": [
    "#putting this together, we could have done:\n",
    "weights_tensor = lin_model.op.inputs[0].op.inputs[1]\n",
    "weights_tensor"
   ]
  },
  {
   "cell_type": "markdown",
   "metadata": {
    "deletable": true,
    "editable": true
   },
   "source": [
    "#### Regularization"
   ]
  },
  {
   "cell_type": "code",
   "execution_count": 34,
   "metadata": {
    "collapsed": false,
    "deletable": true,
    "editable": true
   },
   "outputs": [],
   "source": [
    "#we can define other loss functions -- such as L2 regularization\n",
    "\n",
    "def hinge_loss_l2reg(margins, C, square=False):\n",
    "    #starts off the same as regular hinge loss\n",
    "    num_classes = margins.shape.as_list()[1]\n",
    "    category_labels = tf.placeholder(shape=(None, num_classes),\n",
    "                                     dtype=tf.float32, \n",
    "                                     name='labels')\n",
    "    h = tf.maximum(0., 1 - category_labels * margins)\n",
    "    #allows for squaring the hinge_loss optionally, as done in sklearn\n",
    "    if square:\n",
    "        h = h**2\n",
    "    hinge_loss = tf.reduce_mean(h)\n",
    "    \n",
    "    #but how let's get the weights from the margins,\n",
    "    #using the method just explored above\n",
    "    weights = margins.op.inputs[0].op.inputs[1]\n",
    "    #and get sum-square of the weights -- the 0.5 is for historical reasons\n",
    "    reg_loss = 0.5*tf.reduce_mean(weights**2) \n",
    "    \n",
    "    #total up the loss from the two terms with constant C for weighting \n",
    "    total_loss = C * hinge_loss + reg_loss\n",
    "    \n",
    "    return total_loss, category_labels"
   ]
  },
  {
   "cell_type": "code",
   "execution_count": 35,
   "metadata": {
    "collapsed": false,
    "deletable": true,
    "editable": true
   },
   "outputs": [],
   "source": [
    "cls = TF_OVA_Classifier(model_func=linear_classifier,\n",
    "              loss_func=hinge_loss_l2reg, \n",
    "              loss_kwargs={'C':1},\n",
    "              batch_size=2500,\n",
    "              train_iterations=1000,\n",
    "              train_shuffle=True,\n",
    "              optimizer_class=tf.train.MomentumOptimizer,\n",
    "              optimizer_kwargs = {'learning_rate':10.,\n",
    "                                  'momentum': 0.99\n",
    "                                 },\n",
    "              sess=sess,\n",
    "              )"
   ]
  },
  {
   "cell_type": "code",
   "execution_count": 36,
   "metadata": {
    "collapsed": false,
    "deletable": true,
    "editable": true
   },
   "outputs": [
    {
     "name": "stdout",
     "output_type": "stream",
     "text": [
      "Regularized training accuracy was 93.83%\n"
     ]
    },
    {
     "data": {
      "image/png": "[encoded data removed]",
      "text/plain": [
       "<matplotlib.figure.Figure at 0x7fa68c7b3390>"
      ]
     },
     "metadata": {},
     "output_type": "display_data"
    }
   ],
   "source": [
    "data_subset = Neural_Data[var_levels=='V3']\n",
    "categories_subset = categories[var_levels=='V3']\n",
    "\n",
    "cls.fit(data_subset, categories_subset)\n",
    "\n",
    "plt.plot(cls.losses)\n",
    "plt.xlabel('number of iterations')\n",
    "plt.ylabel('Regularized Hinge loss')\n",
    "\n",
    "preds = cls.predict(data_subset)\n",
    "acc = (preds == categories_subset).sum()\n",
    "pct = acc / float(len(preds)) * 100\n",
    "\n",
    "print('Regularized training accuracy was %.2f%%' % pct)\n",
    "\n",
    "#unsuprisingly training accuracy goes down a bit with regularization\n",
    "#compared to before w/o regularization"
   ]
  },
  {
   "cell_type": "markdown",
   "metadata": {
    "deletable": true,
    "editable": true
   },
   "source": [
    "### Integrating with cross validation tools"
   ]
  },
  {
   "cell_type": "code",
   "execution_count": 37,
   "metadata": {
    "collapsed": true,
    "deletable": true,
    "editable": true
   },
   "outputs": [],
   "source": [
    "import cross_validation as cv"
   ]
  },
  {
   "cell_type": "code",
   "execution_count": 38,
   "metadata": {
    "collapsed": true,
    "deletable": true,
    "editable": true
   },
   "outputs": [],
   "source": [
    "meta_array = np.core.records.fromarrays(Ventral_Dataset['image_meta'].values(),\n",
    "                                        names=Ventral_Dataset['image_meta'].keys())"
   ]
  },
  {
   "cell_type": "code",
   "execution_count": 39,
   "metadata": {
    "collapsed": false,
    "deletable": true,
    "editable": true
   },
   "outputs": [],
   "source": [
    "#the whole point of creating the TF_OVA_Classifier above\n",
    "#was that we could simply stick it into the cross-validation regime\n",
    "#that we'd previously set up for scikit-learn style classifiers\n",
    "#so now let's test it out\n",
    "\n",
    "#create some train/test splits\n",
    "splits = cv.get_splits(meta_array, \n",
    "              lambda x: x['object_name'],  #we're balancing splits by object\n",
    "              5,  \n",
    "              5,  \n",
    "              35,  \n",
    "              train_filter=lambda x: (x['variation_level'] == 'V3'),\n",
    "              test_filter=lambda x: (x['variation_level'] == 'V3'),)\n",
    "    \n",
    "    \n",
    "#here are the arguments to the classifier\n",
    "model_args = {'model_func': linear_classifier,\n",
    "              'loss_func': hinge_loss_l2reg, \n",
    "              'loss_kwargs': {'C':5e-2, #<-- a good regularization value\n",
    "                             },   \n",
    "              'batch_size': 2500,\n",
    "              'train_iterations': 1000,  #<-- about the right number of steps\n",
    "              'train_shuffle': True,\n",
    "              'optimizer_class':tf.train.MomentumOptimizer,\n",
    "              'optimizer_kwargs': {'learning_rate':.1,\n",
    "                                   'momentum': 0.9},\n",
    "              'sess': sess}\n",
    "\n",
    "#so now it should work just like before\n",
    "res = cv.train_and_test_scikit_classifier(features=Neural_Data,\n",
    "                                       labels=categories,\n",
    "                                       splits=splits,\n",
    "                                       model_class=TF_OVA_Classifier,\n",
    "                                       model_args=model_args)\n"
   ]
  },
  {
   "cell_type": "code",
   "execution_count": 40,
   "metadata": {
    "collapsed": false,
    "deletable": true,
    "editable": true
   },
   "outputs": [
    {
     "data": {
      "text/plain": [
       "0.85875"
      ]
     },
     "execution_count": 40,
     "metadata": {},
     "output_type": "execute_result"
    }
   ],
   "source": [
    "#yep!\n",
    "res[0]['test']['mean_accuracy']"
   ]
  },
  {
   "cell_type": "markdown",
   "metadata": {
    "deletable": true,
    "editable": true
   },
   "source": [
    "#### Logistic Regression with Softmax loss "
   ]
  },
  {
   "cell_type": "code",
   "execution_count": 41,
   "metadata": {
    "collapsed": false,
    "deletable": true,
    "editable": true
   },
   "outputs": [],
   "source": [
    "def softmax_loss_l2reg(margins, C):\n",
    "    \"\"\"this shows how to write softmax logistic regression \n",
    "       using tensorflow\n",
    "    \"\"\"\n",
    "    num_classes = margins.shape.as_list()[1]\n",
    "    category_labels = tf.placeholder(shape=(None, num_classes),\n",
    "                                     dtype=tf.float32, \n",
    "                                     name='labels')\n",
    "    \n",
    "    #get the softmax from the margins\n",
    "    probs = tf.nn.softmax(margins) \n",
    "    #extract just the prob value for the correct category\n",
    "    #(we have the (cats + 1)/2 thing because the category_labels\n",
    "    #come in as {-1, +1} values but we need {0,1} for this purpose)\n",
    "    probs_cat_vec = probs * ((category_labels + 1.) / 2.)\n",
    "    #sum up over categories (actually only one term, that for\n",
    "    #the correct category, contributes on each row)\n",
    "    probs_cat = tf.reduce_mean(probs_cat_vec, axis=1)\n",
    "    #-log \n",
    "    neglogprob = -tf.log(probs_cat)\n",
    "    #average over the batch\n",
    "    log_loss = tf.reduce_mean(neglogprob)\n",
    "    \n",
    "    weights = cls.model.op.inputs[0].op.inputs[1]\n",
    "    reg_loss = 0.5*tf.reduce_mean(tf.square(weights)) \n",
    "    \n",
    "    total_loss = C * log_loss + reg_loss\n",
    "    return total_loss, category_labels"
   ]
  },
  {
   "cell_type": "code",
   "execution_count": 42,
   "metadata": {
    "collapsed": false,
    "deletable": true,
    "editable": true
   },
   "outputs": [],
   "source": [
    "model_args={'model_func': linear_classifier,\n",
    "            'model_kwargs': {},\n",
    "            'loss_func': softmax_loss_l2reg, \n",
    "            'loss_kwargs': {'C': 5e-3},\n",
    "            'batch_size': 2500,\n",
    "            'train_iterations': 1000,\n",
    "            'train_shuffle': True,\n",
    "            'optimizer_class':tf.train.MomentumOptimizer,\n",
    "            'optimizer_kwargs': {'learning_rate': 1.,\n",
    "                                 'momentum': 0.9\n",
    "                                 },\n",
    "            'sess': sess}\n",
    "\n",
    "res = cv.train_and_test_scikit_classifier(features=Neural_Data,\n",
    "                                       labels=categories,\n",
    "                                       splits=splits,\n",
    "                                       model_class=TF_OVA_Classifier,\n",
    "                                       model_args=model_args)\n"
   ]
  },
  {
   "cell_type": "code",
   "execution_count": 43,
   "metadata": {
    "collapsed": true,
    "deletable": true,
    "editable": true
   },
   "outputs": [],
   "source": [
    "##illustrate relationship to out-of-box-method"
   ]
  },
  {
   "cell_type": "code",
   "execution_count": 44,
   "metadata": {
    "collapsed": false,
    "deletable": true,
    "editable": true
   },
   "outputs": [
    {
     "data": {
      "text/plain": [
       "0.8543749999999999"
      ]
     },
     "execution_count": 44,
     "metadata": {},
     "output_type": "execute_result"
    }
   ],
   "source": [
    "res[0]['test']['mean_accuracy']\n",
    "#ok works reasonably well"
   ]
  },
  {
   "cell_type": "code",
   "execution_count": null,
   "metadata": {
    "collapsed": true,
    "deletable": true,
    "editable": true
   },
   "outputs": [],
   "source": []
  }
 ],
 "metadata": {
  "kernelspec": {
   "display_name": "Python 2",
   "language": "python",
   "name": "python2"
  },
  "language_info": {
   "codemirror_mode": {
    "name": "ipython",
    "version": 2
   },
   "file_extension": ".py",
   "mimetype": "text/x-python",
   "name": "python",
   "nbconvert_exporter": "python",
   "pygments_lexer": "ipython2",
   "version": "2.7.15+"
  }
 },
 "nbformat": 4,
 "nbformat_minor": 2
}
